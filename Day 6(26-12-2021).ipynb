{
 "cells": [
  {
   "cell_type": "markdown",
   "metadata": {},
   "source": [
    "# Python Operators\n",
    "- to perform operations on variables and values"
   ]
  },
  {
   "cell_type": "markdown",
   "metadata": {},
   "source": [
    "# Arithmetic operators:\n",
    "- used to perform mathematical operations\n",
    "    - operators:\n",
    "    - **'+'** --Adddition\n",
    "    - **'-'** -- subtrationn\n",
    "    - **'*'**  -- Multiplication\n",
    "    - **'/'** - -division\n",
    "    - **'%'** -- modulus\n",
    "    - **'**'** -- Exponential\n",
    "    - **'//'**  -- floor division"
   ]
  },
  {
   "cell_type": "code",
   "execution_count": 2,
   "metadata": {},
   "outputs": [
    {
     "name": "stdout",
     "output_type": "stream",
     "text": [
      "15\n",
      "5\n",
      "50\n",
      "2.0\n",
      "0\n",
      "100000\n",
      "2\n"
     ]
    }
   ],
   "source": [
    "x = 10\n",
    "y = 5\n",
    "print(x+y)\n",
    "print(x-y)\n",
    "print(x*y)\n",
    "print(x/y)\n",
    "print(x%y)\n",
    "print(x**y)\n",
    "print(x//y)"
   ]
  },
  {
   "cell_type": "markdown",
   "metadata": {},
   "source": [
    "# Assignment Operators:\n",
    "- used to assign values to variables\n",
    "- Operators:\n",
    "   - **'='**\n",
    "   - **'+='**\n",
    "   - **'-='**\n",
    "   - **'*='**\n",
    "   - **'/='**\n",
    "   - **'%='**\n",
    "   - **'//='**\n",
    "   - **'**='**\n",
    "\n",
    "\n",
    "\n",
    "\n",
    "\n"
   ]
  },
  {
   "cell_type": "code",
   "execution_count": 10,
   "metadata": {},
   "outputs": [
    {
     "name": "stdout",
     "output_type": "stream",
     "text": [
      "7\n",
      "5\n",
      "20\n",
      "10.0\n",
      "0.0\n",
      "625\n",
      "25\n"
     ]
    }
   ],
   "source": [
    "x = 3\n",
    "x += 4 # x = x+4\n",
    "print(x)\n",
    "x -= 2\n",
    "print(x)\n",
    "x *= 4\n",
    "print(x)\n",
    "x /= 2\n",
    "print(x)\n",
    "x %= 5\n",
    "print(x)\n",
    "x = 5\n",
    "x **= 4\n",
    "print(x)\n",
    "x //= 25\n",
    "print(x)"
   ]
  },
  {
   "cell_type": "markdown",
   "metadata": {},
   "source": [
    "# Comparision Operator:\n",
    "- used to compare values\n",
    "- operators:\n",
    "   - **'=='**\n",
    "   - **'!='**\n",
    "   - **'<'**\n",
    "   - **'>'**\n",
    "   - **'<='**\n",
    "   - **'>='**"
   ]
  },
  {
   "cell_type": "code",
   "execution_count": 11,
   "metadata": {},
   "outputs": [
    {
     "name": "stdout",
     "output_type": "stream",
     "text": [
      "False\n",
      "True\n",
      "True\n",
      "False\n",
      "True\n",
      "False\n"
     ]
    }
   ],
   "source": [
    "x = 4\n",
    "y = 17\n",
    "print(x==y)\n",
    "print(x!=y)\n",
    "print(x<y)\n",
    "print(x>y)\n",
    "print(x<=y)\n",
    "print(x>=y)"
   ]
  },
  {
   "cell_type": "markdown",
   "metadata": {},
   "source": [
    "# Logical operators:\n",
    "- used to compare conditional statements\n",
    "- Operattors:\n",
    "    - **'and'**\n",
    "    - **'or'**\n",
    "    - **'not'**\n"
   ]
  },
  {
   "cell_type": "code",
   "execution_count": 20,
   "metadata": {},
   "outputs": [
    {
     "name": "stdout",
     "output_type": "stream",
     "text": [
      "False\n",
      "True\n",
      "False\n"
     ]
    }
   ],
   "source": [
    "x = 4\n",
    "print(x > 3 and x > 7)\n",
    "print(x > 3 or x > 7)\n",
    "print(not(x > 3 or x > 7))"
   ]
  },
  {
   "cell_type": "markdown",
   "metadata": {},
   "source": [
    "# Identity Operator:\n",
    "- used to compaere objects\\\n",
    "- operators:\n",
    "  - **'is'**\n",
    "  - **'is not'**"
   ]
  },
  {
   "cell_type": "code",
   "execution_count": 24,
   "metadata": {},
   "outputs": [
    {
     "name": "stdout",
     "output_type": "stream",
     "text": [
      "True\n",
      "False\n",
      "True\n",
      "True\n"
     ]
    }
   ],
   "source": [
    "a = 2\n",
    "b = 2\n",
    "c = 6\n",
    "print(a is b)\n",
    "print(a is c)\n",
    "print(a is not c)\n",
    "print( a is b is not c)"
   ]
  },
  {
   "cell_type": "markdown",
   "metadata": {},
   "source": [
    "# Membership operator\n",
    "- used to test given sequence is presented in object\n",
    "- Operators:\n",
    "  - **'in'**\n",
    "  - **'not in'**"
   ]
  },
  {
   "cell_type": "code",
   "execution_count": 31,
   "metadata": {},
   "outputs": [
    {
     "name": "stdout",
     "output_type": "stream",
     "text": [
      "True\n",
      "False\n",
      "False\n",
      "True\n"
     ]
    }
   ],
   "source": [
    "a = \"python\"\n",
    "print(\"y\" in a)\n",
    "print(\"s\" in a)\n",
    "print(\"tn\"  in  a)\n",
    "print(\"ahj\" not in a)"
   ]
  },
  {
   "cell_type": "markdown",
   "metadata": {},
   "source": [
    "# Control Flow statements:\n",
    "- conditional statements\n",
    "  - if-else statement\n",
    "- LOOPING STATEMENTS\n",
    "   - while loop statemnet\n",
    "   - for loop statement"
   ]
  },
  {
   "cell_type": "markdown",
   "metadata": {},
   "source": [
    " # if - else Statements:\n",
    " "
   ]
  },
  {
   "cell_type": "code",
   "execution_count": null,
   "metadata": {},
   "outputs": [],
   "source": [
    "#syntax:\n",
    "if boolean_condition:\n",
    "    statement\n",
    "else:\n",
    "    statement"
   ]
  },
  {
   "cell_type": "code",
   "execution_count": 32,
   "metadata": {},
   "outputs": [
    {
     "name": "stdout",
     "output_type": "stream",
     "text": [
      "enter a number :5\n",
      "Odd number\n"
     ]
    }
   ],
   "source": [
    "# check given is even or odd\n",
    "n = int(input(\"enter a number :\"))\n",
    "if n %2 ==0:\n",
    "    print(\"Even number\")\n",
    "else:\n",
    "    print(\"Odd number\")\n",
    "    \n",
    "    "
   ]
  },
  {
   "cell_type": "code",
   "execution_count": 34,
   "metadata": {},
   "outputs": [
    {
     "name": "stdout",
     "output_type": "stream",
     "text": [
      "enter a number :10\n",
      "No\n"
     ]
    }
   ],
   "source": [
    "# check given is multiples of both 3 and 5\n",
    "n = int(input(\"enter a number :\"))\n",
    "if n%3==0 and n%5==0:\n",
    "    print(\"yes\")\n",
    "else:\n",
    "    print(\"No\")"
   ]
  },
  {
   "cell_type": "code",
   "execution_count": null,
   "metadata": {},
   "outputs": [],
   "source": [
    "#check given is positive number ,negative number or zero\n",
    "# find large number by given 3 inputs\n",
    "# Find grading \n",
    "# Below 25 -- F\n",
    "# 25 to 45 -- E\n",
    "# 45 to 50 -- D\n",
    "# 50 to 60 - C\n",
    "# 60 to 80 -- B\n",
    "# Above 80 - A\n"
   ]
  },
  {
   "cell_type": "markdown",
   "metadata": {},
   "source": [
    "# while Loop Statement"
   ]
  },
  {
   "cell_type": "code",
   "execution_count": 35,
   "metadata": {},
   "outputs": [
    {
     "ename": "NameError",
     "evalue": "name 'boolean_condition' is not defined",
     "output_type": "error",
     "traceback": [
      "\u001b[1;31m---------------------------------------------------------------------------\u001b[0m",
      "\u001b[1;31mNameError\u001b[0m                                 Traceback (most recent call last)",
      "\u001b[1;32m<ipython-input-35-8f569fcde491>\u001b[0m in \u001b[0;36m<module>\u001b[1;34m\u001b[0m\n\u001b[0;32m      1\u001b[0m \u001b[1;31m#syntax:\u001b[0m\u001b[1;33m\u001b[0m\u001b[1;33m\u001b[0m\u001b[1;33m\u001b[0m\u001b[0m\n\u001b[1;32m----> 2\u001b[1;33m \u001b[1;32mwhile\u001b[0m \u001b[0mboolean_condition\u001b[0m\u001b[1;33m:\u001b[0m\u001b[1;33m\u001b[0m\u001b[1;33m\u001b[0m\u001b[0m\n\u001b[0m\u001b[0;32m      3\u001b[0m     \u001b[0mstatement\u001b[0m\u001b[1;33m\u001b[0m\u001b[1;33m\u001b[0m\u001b[0m\n",
      "\u001b[1;31mNameError\u001b[0m: name 'boolean_condition' is not defined"
     ]
    }
   ],
   "source": [
    "#syntax:\n",
    "while boolean_condition:\n",
    "    statement\n",
    "    increment/decrement"
   ]
  },
  {
   "cell_type": "code",
   "execution_count": 36,
   "metadata": {},
   "outputs": [
    {
     "name": "stdout",
     "output_type": "stream",
     "text": [
      "Python\n",
      "Python\n",
      "Python\n",
      "Python\n",
      "Python\n"
     ]
    }
   ],
   "source": [
    "# print python 5 times\n",
    "print(\"Python\")\n",
    "print(\"Python\")\n",
    "print(\"Python\")\n",
    "print(\"Python\")\n",
    "print(\"Python\")"
   ]
  },
  {
   "cell_type": "code",
   "execution_count": 2,
   "metadata": {},
   "outputs": [
    {
     "name": "stdout",
     "output_type": "stream",
     "text": [
      "python\n",
      "python\n",
      "python\n",
      "python\n",
      "python\n"
     ]
    }
   ],
   "source": [
    "i = 0\n",
    "while i <5:\n",
    "    print(\"python\")\n",
    "    i = i+1"
   ]
  },
  {
   "cell_type": "code",
   "execution_count": 3,
   "metadata": {},
   "outputs": [
    {
     "name": "stdout",
     "output_type": "stream",
     "text": [
      "1 2 3 4 5 6 7 8 9 10 "
     ]
    }
   ],
   "source": [
    "#print  1 to 10 number \n",
    "i = 1\n",
    "while i <= 10:\n",
    "    print(i,end=\" \")\n",
    "    i = i+1"
   ]
  },
  {
   "cell_type": "code",
   "execution_count": 11,
   "metadata": {},
   "outputs": [
    {
     "name": "stdout",
     "output_type": "stream",
     "text": [
      "2 4 6 8 10 "
     ]
    }
   ],
   "source": [
    "# print even numbers from 1 to 10\n",
    "i = 1\n",
    "while i < 11:\n",
    "    if i%2== 0:\n",
    "        print(i,end=\" \")\n",
    "    i = i+1"
   ]
  },
  {
   "cell_type": "code",
   "execution_count": 2,
   "metadata": {},
   "outputs": [
    {
     "name": "stdout",
     "output_type": "stream",
     "text": [
      "12\n",
      "1 2 3 4 6 12 "
     ]
    }
   ],
   "source": [
    "# input : 6  o/p: 1 2 3 6\n",
    "# input: 12 o/p: 1 2 3 4 6 12\n",
    "i = 1\n",
    "n = int(input())\n",
    "while i<=n:\n",
    "    if n%i ==0:\n",
    "        print(i,end = ' ')\n",
    "    i = i+1\n",
    "    "
   ]
  },
  {
   "cell_type": "code",
   "execution_count": null,
   "metadata": {},
   "outputs": [],
   "source": []
  }
 ],
 "metadata": {
  "kernelspec": {
   "display_name": "Python 3",
   "language": "python",
   "name": "python3"
  },
  "language_info": {
   "codemirror_mode": {
    "name": "ipython",
    "version": 3
   },
   "file_extension": ".py",
   "mimetype": "text/x-python",
   "name": "python",
   "nbconvert_exporter": "python",
   "pygments_lexer": "ipython3",
   "version": "3.7.3"
  }
 },
 "nbformat": 4,
 "nbformat_minor": 2
}
